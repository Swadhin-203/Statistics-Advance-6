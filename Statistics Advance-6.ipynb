{
 "cells": [
  {
   "cell_type": "markdown",
   "id": "6f3e0a15",
   "metadata": {},
   "source": [
    "# Q1. Explain the assumptions required to use ANOVA and provide examples of violations that could impact the validity of the results.\n",
    "Ans:ANOVA (Analysis of Variance) is a statistical method used to determine whether there are significant differences between the means of three or more groups. There are several assumptions that must be met in order to use ANOVA correctly, including:\n",
    "\n",
    "Independence of observations: The observations within each group must be independent of each other, and the groups themselves must be independent. This means that the observations within one group should not influence the observations in another group.\n",
    "\n",
    "Normality: The distribution of the data within each group should be approximately normal. This means that the data should be symmetrically distributed around the mean, and there should be no extreme outliers.\n",
    "\n",
    "Homogeneity of variances: The variances of the data within each group should be approximately equal. This means that the spread of the data within each group should be similar.\n",
    "\n",
    "Examples of violations that could impact the validity of the ANOVA results include:\n",
    "\n",
    "Violation of independence: If the observations within a group are not independent, such as when there is clustering or correlation between the observations, the ANOVA results may be biased. For example, if a study is conducted on siblings and each sibling is assigned to a different treatment group, the observations within each group may not be independent.\n",
    "\n",
    "Violation of normality: If the data within each group is not approximately normally distributed, the ANOVA results may be invalid. For example, if the data is highly skewed, such as with income data, the normality assumption may not hold.\n",
    "\n",
    "Violation of homogeneity of variances: If the variances within each group are not approximately equal, the ANOVA results may be incorrect. For example, if one group has much larger variability than the others, this could impact the ANOVA results.\n",
    "\n",
    "In conclusion, it is important to check for violations of these assumptions before interpreting the results of ANOVA. If any of the assumptions are violated, it may be necessary to use alternative statistical methods or to transform the data to meet the assumptions."
   ]
  },
  {
   "cell_type": "markdown",
   "id": "b23a2937",
   "metadata": {},
   "source": [
    "# Q2. What are the three types of ANOVA, and in what situations would each be used?\n",
    "Ans:The three types of ANOVA are:\n",
    "\n",
    "1-One-way ANOVA: This type of ANOVA is used to test for differences between the means of three or more groups, where there is only one independent variable. One-way ANOVA is commonly used in experimental or observational studies with a single factor or independent variable. For example, a one-way ANOVA could be used to test whether there are differences in exam scores among students in three different classes.\n",
    "\n",
    "2-Two-way ANOVA: This type of ANOVA is used to test for differences between the means of three or more groups, where there are two independent variables. Two-way ANOVA is commonly used in experimental or observational studies with two factors or independent variables. For example, a two-way ANOVA could be used to test whether there are differences in exam scores between male and female students in three different classes.\n",
    "\n",
    "3-MANOVA (Multivariate Analysis of Variance): This type of ANOVA is used to test for differences between the means of three or more groups on multiple dependent variables. MANOVA is commonly used in situations where there are several related dependent variables that are being measured. For example, a MANOVA could be used to test whether there are differences in academic performance between students in three different classes, as measured by multiple exams and assignments.\n",
    "\n",
    "In conclusion, one-way ANOVA is used when there is only one independent variable, two-way ANOVA is used when there are two independent variables, and MANOVA is used when there are multiple dependent variables. Choosing the appropriate type of ANOVA depends on the research question and the nature of the data being analyzed."
   ]
  },
  {
   "cell_type": "markdown",
   "id": "335da92a",
   "metadata": {},
   "source": [
    "# Q3. What is the partitioning of variance in ANOVA, and why is it important to understand this concept?\n",
    "Ans:The partitioning of variance in ANOVA refers to the process of dividing the total variation in a set of data into different components that are attributable to different sources. The variance is partitioned into two types of variation: between-group variation and within-group variation.\n",
    "\n",
    "Between-group variation refers to the variation in the data that is due to differences between the means of the groups being compared. This variation is also known as the treatment effect, as it reflects the impact of the treatment or independent variable on the dependent variable. Within-group variation, on the other hand, refers to the variation in the data that is due to individual differences within each group. This variation is also known as error variation, as it reflects the random variability that is not accounted for by the treatment or independent variable.\n",
    "\n",
    "It is important to understand the concept of partitioning of variance in ANOVA because it provides a framework for testing hypotheses about the treatment effect. By comparing the between-group variation to the within-group variation, ANOVA can determine whether the differences in means between the groups are statistically significant. This allows researchers to draw conclusions about the effect of the treatment or independent variable on the dependent variable, while accounting for the inherent variability in the data.\n",
    "\n",
    "In summary, understanding the partitioning of variance in ANOVA is essential for interpreting the results of the analysis and making valid inferences about the impact of the treatment or independent variable on the dependent variable."
   ]
  },
  {
   "cell_type": "code",
   "execution_count": 1,
   "id": "0c2f740e",
   "metadata": {},
   "outputs": [
    {
     "name": "stdout",
     "output_type": "stream",
     "text": [
      "SST: 280.0\n",
      "SSE: 0.0\n",
      "SSR: 280.0\n"
     ]
    }
   ],
   "source": [
    "# Q4. How would you calculate the total sum of squares (SST), explained sum of squares (SSE), and residual sum of squares (SSR) \n",
    "# in a one-way ANOVA using Python?\n",
    "# Ans:\n",
    "import numpy as np\n",
    "from scipy.stats import f_oneway\n",
    "\n",
    "# generate some sample data for three groups\n",
    "group1 = np.array([1, 2, 3, 4, 5])\n",
    "group2 = np.array([6, 7, 8, 9, 10])\n",
    "group3 = np.array([11, 12, 13, 14, 15])\n",
    "\n",
    "# concatenate the data into one array\n",
    "data = np.concatenate((group1, group2, group3))\n",
    "\n",
    "# calculate the one-way ANOVA\n",
    "fvalue, pvalue = f_oneway(group1, group2, group3)\n",
    "\n",
    "# calculate the total sum of squares (SST)\n",
    "sst = np.sum((data - np.mean(data))**2)\n",
    "\n",
    "# calculate the explained sum of squares (SSE)\n",
    "sse = np.sum((np.mean([group1, group2, group3]) - np.mean(data))**2) * len(group1)\n",
    "\n",
    "# calculate the residual sum of squares (SSR)\n",
    "ssr = sst - sse\n",
    "\n",
    "# print the results\n",
    "print('SST:', sst)\n",
    "print('SSE:', sse)\n",
    "print('SSR:', ssr)\n"
   ]
  },
  {
   "cell_type": "code",
   "execution_count": 2,
   "id": "8bc82326",
   "metadata": {},
   "outputs": [
    {
     "name": "stdout",
     "output_type": "stream",
     "text": [
      "          sum_sq   df         F    PR(>F)\n",
      "A           32.0  1.0  3.657143  0.128395\n",
      "B            4.5  1.0  0.514286  0.512937\n",
      "A:B          2.0  1.0  0.228571  0.657541\n",
      "Residual    35.0  4.0       NaN       NaN\n"
     ]
    }
   ],
   "source": [
    "# Q5. In a two-way ANOVA, how would you calculate the main effects and interaction effects using Python?\n",
    "# Ans:\n",
    "import pandas as pd\n",
    "import statsmodels.api as sm\n",
    "from statsmodels.formula.api import ols\n",
    "\n",
    "# create a sample dataset with two factors (A and B) and a response variable (Y)\n",
    "data = {'A': ['a1', 'a2', 'a1', 'a2', 'a1', 'a2', 'a1', 'a2'],\n",
    "        'B': ['b1', 'b1', 'b2', 'b2', 'b1', 'b1', 'b2', 'b2'],\n",
    "        'Y': [10, 15, 12, 14, 13, 18, 16, 20]}\n",
    "\n",
    "df = pd.DataFrame(data)\n",
    "\n",
    "# fit the two-way ANOVA model and calculate the main effects and interaction effects\n",
    "model = ols('Y ~ A + B + A:B', data=df).fit()\n",
    "anova_table = sm.stats.anova_lm(model, typ=2)\n",
    "\n",
    "# print the results\n",
    "print(anova_table)\n"
   ]
  },
  {
   "cell_type": "markdown",
   "id": "b564eb73",
   "metadata": {},
   "source": [
    "# Q6. Suppose you conducted a one-way ANOVA and obtained an F-statistic of 5.23 and a p-value of 0.02. What can you conclude about the differences between the groups, and how would you interpret these results?\n",
    "Ans:If we conducted a one-way ANOVA and obtained an F-statistic of 5.23 and a p-value of 0.02, we can conclude that there are statistically significant differences between the groups.\n",
    "\n",
    "The F-statistic measures the ratio of between-group variability to within-group variability. A higher F-value suggests that the between-group variability is greater relative to the within-group variability, indicating that there are significant differences between the groups.\n",
    "\n",
    "The p-value is the probability of observing a test statistic as extreme as the one calculated from the sample data, assuming that the null hypothesis is true. In this case, the null hypothesis is that there are no significant differences between the groups. A p-value of 0.02 indicates that there is strong evidence against the null hypothesis, and we can reject it in favor of the alternative hypothesis that there are significant differences between the groups.\n",
    "\n",
    "To interpret these results, we can say that the data provide strong evidence that the means of at least two of the groups are different from each other. However, we cannot determine which specific groups are different from each other based solely on the ANOVA results. Additional post-hoc tests, such as Tukey's test or Bonferroni correction, can be performed to determine which specific groups have significantly different means."
   ]
  },
  {
   "cell_type": "markdown",
   "id": "48d10978",
   "metadata": {},
   "source": [
    "# Q7. In a repeated measures ANOVA, how would you handle missing data, and what are the potential consequences of using different methods to handle missing data?\n",
    "Ans:In a repeated measures ANOVA, missing data can be handled in different ways. Here are a few common methods:\n",
    "\n",
    "Pairwise deletion: This method involves analyzing only the available data for each pair of variables. In other words, if there is missing data for one variable at a specific time point, that time point is excluded from the analysis for that variable. This approach is easy to implement, but it can lead to biased estimates of variance and reduced statistical power.\n",
    "\n",
    "Listwise deletion: This method involves analyzing only the cases that have complete data for all variables. In other words, if there is missing data for one variable at any time point, that entire case is excluded from the analysis. This approach can reduce the sample size and statistical power, and it can also introduce bias if the missing data are related to the outcome or other variables.\n",
    "\n",
    "Imputation: This method involves replacing missing data with estimated values based on the available data. There are several methods of imputation, such as mean imputation, regression imputation, and multiple imputation. Imputation can preserve the sample size and increase statistical power, but it can also introduce bias if the imputation model is misspecified or if the assumptions of the imputation method are violated.\n",
    "\n",
    "The potential consequences of using different methods to handle missing data depend on the amount and pattern of missing data, as well as the method of analysis. In general, using methods that preserve the sample size and reduce bias, such as imputation, are preferred over methods that reduce the sample size or introduce bias, such as pairwise or listwise deletion. However, the choice of method should also take into account the assumptions of the statistical model and the goals of the analysis. It is important to report the method of handling missing data and to perform sensitivity analyses to assess the robustness of the results to different methods of handling missing data."
   ]
  },
  {
   "cell_type": "markdown",
   "id": "553eb5aa",
   "metadata": {},
   "source": [
    "# Q8. What are some common post-hoc tests used after ANOVA, and when would you use each one? Provide an example of a situation where a post-hoc test might be necessary.\n",
    "Ans:After conducting an ANOVA, post-hoc tests can be performed to determine which specific groups have significantly different means. Here are some common post-hoc tests:\n",
    "\n",
    "Tukey's Honestly Significant Difference (HSD) test: This test is used to compare all possible pairwise differences between groups. It controls for the family-wise error rate, which is the probability of making at least one Type I error (false positive) across all pairwise comparisons. Tukey's test is appropriate when the number of groups is equal and the sample sizes are equal or unequal.\n",
    "\n",
    "Bonferroni correction: This test adjusts the p-values of pairwise comparisons by dividing the alpha level (usually 0.05) by the number of comparisons. It controls for the experiment-wise error rate, which is the probability of making at least one Type I error across all pairwise comparisons. Bonferroni correction is conservative and appropriate when the number of comparisons is small.\n",
    "\n",
    "Dunnett's test: This test compares each group to a control group, rather than all pairwise comparisons. It controls for the family-wise error rate, assuming that the control group is pre-specified. Dunnett's test is appropriate when there is a clear control group and the other groups are being compared to it.\n",
    "\n",
    "Scheffe's test: This test compares all possible combinations of groups and controls for the experiment-wise error rate. It is appropriate when the number of groups is unequal or the sample sizes are unequal, and when the research question involves complex hypotheses.\n",
    "\n",
    "A situation where a post-hoc test might be necessary is when we conduct an ANOVA and find a statistically significant effect of the independent variable, but we do not know which specific groups have significantly different means. In this case, we can perform a post-hoc test to determine which groups are different from each other. For example, suppose we conduct an ANOVA to compare the mean scores of three different teaching methods on a standardized test. The ANOVA reveals a significant effect of teaching method on test scores. A post-hoc test, such as Tukey's HSD test, can be used to compare the mean scores of each pair of teaching methods and determine which pairs have significantly different mean scores."
   ]
  },
  {
   "cell_type": "code",
   "execution_count": 3,
   "id": "413ad8b6",
   "metadata": {},
   "outputs": [
    {
     "name": "stdout",
     "output_type": "stream",
     "text": [
      "F-statistic: 1.80\n",
      "p-value: 0.1768\n"
     ]
    }
   ],
   "source": [
    "#  Q9. A researcher wants to compare the mean weight loss of three diets: A, B, and C. They collect data from 50 participants\n",
    "# who were randomly assigned to one of the diets. Conduct a one-way ANOVA using Python to determine if there are any significant\n",
    "# differences between the mean weight loss of the three diets. Report the F-statistic and p-value, and interpret the results.\n",
    "import pandas as pd\n",
    "import scipy.stats as stats\n",
    "\n",
    "# create data frame with weight loss data\n",
    "data = pd.DataFrame({\n",
    "    'weight_loss': [5.1, 4.9, 6.2, 3.8, 4.5, 4.2, 4.4, 4.8, 5.0, 4.7,\n",
    "                    4.1, 4.6, 5.3, 5.5, 4.9, 5.2, 4.0, 5.1, 4.3, 3.9,\n",
    "                    5.2, 3.7, 5.8, 4.4, 5.0, 4.8, 4.7, 4.3, 3.8, 4.2,\n",
    "                    4.1, 4.9, 4.7, 4.4, 4.5, 4.0, 4.6, 4.2, 4.4, 4.0,\n",
    "                    4.7, 4.5, 4.1, 4.9, 4.8, 4.3, 4.0, 3.8, 4.2, 4.5],\n",
    "    'diet': ['A']*20 + ['B']*20 + ['C']*10\n",
    "})\n",
    "\n",
    "# conduct one-way ANOVA\n",
    "f_statistic, p_value = stats.f_oneway(\n",
    "    data[data['diet'] == 'A']['weight_loss'],\n",
    "    data[data['diet'] == 'B']['weight_loss'],\n",
    "    data[data['diet'] == 'C']['weight_loss']\n",
    ")\n",
    "\n",
    "# print results\n",
    "print(f\"F-statistic: {f_statistic:.2f}\")\n",
    "print(f\"p-value: {p_value:.4f}\")\n",
    "\n"
   ]
  },
  {
   "cell_type": "code",
   "execution_count": 5,
   "id": "28b3b5e6",
   "metadata": {},
   "outputs": [
    {
     "name": "stdout",
     "output_type": "stream",
     "text": [
      "                              sum_sq    df         F    PR(>F)\n",
      "C(program)                  0.213451   2.0  0.027600  0.972786\n",
      "C(experience)               9.269680   1.0  2.397221  0.125311\n",
      "C(program):C(experience)    5.855883   2.0  0.757191  0.472156\n",
      "Residual                  324.814937  84.0       NaN       NaN\n"
     ]
    }
   ],
   "source": [
    "# Q10. A company wants to know if there are any significant differences in the average time it takes to\n",
    "# complete a task using three different software programs: Program A, Program B, and Program C. They\n",
    "# randomly assign 30 employees to one of the programs and record the time it takes each employee to\n",
    "# complete the task. Conduct a two-way ANOVA using Python to determine if there are any main effects or\n",
    "# interaction effects between the software programs and employee experience level (novice vs.\n",
    "# experienced). Report the F-statistics and p-values, and interpret the results.\n",
    "import numpy as np\n",
    "import pandas as pd\n",
    "import statsmodels.api as sm\n",
    "from statsmodels.formula.api import ols\n",
    "\n",
    "# create example data\n",
    "program = np.repeat(['A', 'B', 'C'], 30)\n",
    "experience = np.tile(['novice', 'experienced'], 45)\n",
    "time = np.random.normal(10, 2, 90)\n",
    "\n",
    "# create pandas DataFrame\n",
    "df = pd.DataFrame({'program': program, 'experience': experience, 'time': time})\n",
    "\n",
    "# conduct two-way ANOVA\n",
    "model = ols('time ~ C(program) + C(experience) + C(program):C(experience)', data=df).fit()\n",
    "anova_table = sm.stats.anova_lm(model, typ=2)\n",
    "\n",
    "# print ANOVA table\n",
    "print(anova_table)\n"
   ]
  },
  {
   "cell_type": "code",
   "execution_count": 6,
   "id": "c3f27c79",
   "metadata": {},
   "outputs": [
    {
     "name": "stdout",
     "output_type": "stream",
     "text": [
      "Two-sample t-test results:\n",
      "t-statistic: -3.06\n",
      "p-value: 0.0025\n",
      "Post-hoc test (Tukey HSD) results:\n",
      "   Multiple Comparison of Means - Tukey HSD, FWER=0.05   \n",
      "=========================================================\n",
      " group1    group2    meandiff p-adj  lower  upper  reject\n",
      "---------------------------------------------------------\n",
      "control experimental   4.5775 0.0025 1.6272 7.5278   True\n",
      "---------------------------------------------------------\n"
     ]
    }
   ],
   "source": [
    "# Q11. An educational researcher is interested in whether a new teaching method improves student test\n",
    "# scores. They randomly assign 100 students to either the control group (traditional teaching method) or the\n",
    "# experimental group (new teaching method) and administer a test at the end of the semester. Conduct a\n",
    "# two-sample t-test using Python to determine if there are any significant differences in test scores\n",
    "# between the two groups. If the results are significant, follow up with a post-hoc test to determine which\n",
    "# group(s) differ significantly from each other.\n",
    "import numpy as np\n",
    "import pandas as pd\n",
    "from scipy import stats\n",
    "from statsmodels.stats.multicomp import pairwise_tukeyhsd\n",
    "\n",
    "# create example data\n",
    "control_scores = np.random.normal(70, 10, 100)\n",
    "experimental_scores = np.random.normal(75, 10, 100)\n",
    "\n",
    "# conduct two-sample t-test\n",
    "t_stat, p_val = stats.ttest_ind(control_scores, experimental_scores)\n",
    "print('Two-sample t-test results:')\n",
    "print(f't-statistic: {t_stat:.2f}')\n",
    "print(f'p-value: {p_val:.4f}')\n",
    "\n",
    "# conduct post-hoc test (Tukey's HSD)\n",
    "all_scores = np.concatenate([control_scores, experimental_scores])\n",
    "group_labels = np.array(['control'] * 100 + ['experimental'] * 100)\n",
    "tukey_results = pairwise_tukeyhsd(all_scores, group_labels, alpha=0.05)\n",
    "print('Post-hoc test (Tukey HSD) results:')\n",
    "print(tukey_results)\n"
   ]
  },
  {
   "cell_type": "code",
   "execution_count": 7,
   "id": "e4fac816",
   "metadata": {},
   "outputs": [
    {
     "name": "stdout",
     "output_type": "stream",
     "text": [
      "         F Value  Num DF  Den DF        Pr > F\n",
      "Store  66.421936     2.0    58.0  9.994094e-16\n",
      " Multiple Comparison of Means - Tukey HSD, FWER=0.05  \n",
      "======================================================\n",
      " group1  group2 meandiff p-adj   lower   upper  reject\n",
      "------------------------------------------------------\n",
      "Store A Store B   2.1333 0.7472  -4.8472 9.1138  False\n",
      "Store A Store C     -1.7 0.8308  -8.6805 5.2805  False\n",
      "Store B Store C  -3.8333 0.3938 -10.8138 3.1472  False\n",
      "------------------------------------------------------\n"
     ]
    }
   ],
   "source": [
    "# Q12. A researcher wants to know if there are any significant differences in the average daily sales of three\n",
    "# retail stores: Store A, Store B, and Store C. They randomly select 30 days and record the sales for each store\n",
    "# on those days. Conduct a repeated measures ANOVA using Python to determine if there are any\n",
    "\n",
    "# significant differences in sales between the three stores. If the results are significant, follow up with a post-\n",
    "# hoc test to determine which store(s) differ significantly from each other.\n",
    "import pandas as pd\n",
    "from statsmodels.stats.anova import AnovaRM\n",
    "\n",
    "# create a dataframe with sales data\n",
    "sales = pd.DataFrame({\n",
    "    'Store A': [10, 12, 15, 11, 13, 14, 16, 18, 20, 22, 25, 19, 21, 24, 23, 27, 28, 30, 31, 33, 35, 38, 39, 40, 41, 42, 43, 45, 48, 50],\n",
    "    'Store B': [12, 14, 15, 16, 17, 18, 19, 20, 21, 22, 25, 24, 26, 27, 28, 30, 31, 33, 34, 35, 37, 38, 40, 42, 43, 44, 45, 46, 47, 48],\n",
    "    'Store C': [8, 10, 11, 12, 13, 14, 15, 16, 18, 20, 21, 22, 23, 24, 25, 27, 29, 30, 31, 32, 33, 34, 35, 36, 38, 39, 40, 41, 42, 43]\n",
    "})\n",
    "\n",
    "# reshape data into long format\n",
    "sales = sales.melt(var_name='Store', value_name='Sales', ignore_index=False)\n",
    "sales['Day'] = sales.index % 30 + 1\n",
    "# conduct repeated measures ANOVA\n",
    "aovrm = AnovaRM(data=sales, depvar='Sales', subject='Day', within=['Store'])\n",
    "res = aovrm.fit()\n",
    "\n",
    "# print ANOVA table\n",
    "print(res.anova_table)\n",
    "from statsmodels.stats.multicomp import pairwise_tukeyhsd\n",
    "\n",
    "# conduct pairwise Tukey HSD test\n",
    "tukey = pairwise_tukeyhsd(sales['Sales'], sales['Store'])\n",
    "print(tukey.summary())\n"
   ]
  },
  {
   "cell_type": "code",
   "execution_count": null,
   "id": "09ff4cc2",
   "metadata": {},
   "outputs": [],
   "source": []
  },
  {
   "cell_type": "code",
   "execution_count": null,
   "id": "0ebefa7d",
   "metadata": {},
   "outputs": [],
   "source": []
  },
  {
   "cell_type": "code",
   "execution_count": null,
   "id": "54e33ec8",
   "metadata": {},
   "outputs": [],
   "source": []
  },
  {
   "cell_type": "code",
   "execution_count": null,
   "id": "6e567fea",
   "metadata": {},
   "outputs": [],
   "source": []
  },
  {
   "cell_type": "code",
   "execution_count": null,
   "id": "a8df7402",
   "metadata": {},
   "outputs": [],
   "source": []
  },
  {
   "cell_type": "code",
   "execution_count": null,
   "id": "fdd04089",
   "metadata": {},
   "outputs": [],
   "source": []
  }
 ],
 "metadata": {
  "kernelspec": {
   "display_name": "Python 3 (ipykernel)",
   "language": "python",
   "name": "python3"
  },
  "language_info": {
   "codemirror_mode": {
    "name": "ipython",
    "version": 3
   },
   "file_extension": ".py",
   "mimetype": "text/x-python",
   "name": "python",
   "nbconvert_exporter": "python",
   "pygments_lexer": "ipython3",
   "version": "3.10.5"
  }
 },
 "nbformat": 4,
 "nbformat_minor": 5
}
